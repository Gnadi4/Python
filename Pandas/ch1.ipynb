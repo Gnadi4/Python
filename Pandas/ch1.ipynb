{
 "metadata": {
  "language_info": {
   "codemirror_mode": {
    "name": "ipython",
    "version": 3
   },
   "file_extension": ".py",
   "mimetype": "text/x-python",
   "name": "python",
   "nbconvert_exporter": "python",
   "pygments_lexer": "ipython3",
   "version": "3.7.10"
  },
  "orig_nbformat": 2,
  "kernelspec": {
   "name": "python3710jvsc74a57bd09a55372cc88767ffbdea7cf0ff1dfc68c4728005d93913fd5c137d9dbb8970d1",
   "display_name": "Python 3.7.10 64-bit ('myenv': conda)"
  }
 },
 "nbformat": 4,
 "nbformat_minor": 2,
 "cells": [
  {
   "cell_type": "code",
   "execution_count": 1,
   "metadata": {},
   "outputs": [
    {
     "output_type": "stream",
     "name": "stdout",
     "text": [
      "<class 'pandas.core.series.Series'>\n\n\na    1\nb    2\nc    3\ndtype: int64\n"
     ]
    }
   ],
   "source": [
    "#딕셔너리 -> 시리즈 변환: pandas.Seires(딕셔너리)\n",
    "import pandas as pd\n",
    "\n",
    "dict_data = {'a':1, 'b':2, 'c':3}\n",
    "\n",
    "sr = pd.Series(dict_data)\n",
    "\n",
    "print(type(sr))\n",
    "print('\\n')\n",
    "print(sr)"
   ]
  },
  {
   "cell_type": "code",
   "execution_count": 2,
   "metadata": {},
   "outputs": [
    {
     "output_type": "stream",
     "name": "stdout",
     "text": [
      "0    2019-01-02\n1          3.14\n2           ABC\n3           100\n4          True\ndtype: object\n"
     ]
    }
   ],
   "source": [
    "import pandas as pandas\n",
    "list_data = ['2019-01-02',3.14,'ABC',100,True]\n",
    "sr = pd.Series(list_data)\n",
    "print(sr)"
   ]
  },
  {
   "cell_type": "code",
   "execution_count": 3,
   "metadata": {},
   "outputs": [
    {
     "output_type": "stream",
     "name": "stdout",
     "text": [
      "RangeIndex(start=0, stop=5, step=1)\n['2019-01-02' 3.14 'ABC' 100 True]\n"
     ]
    }
   ],
   "source": [
    "idx = sr.index\n",
    "val = sr.values\n",
    "print(idx)\n",
    "print(val)"
   ]
  },
  {
   "cell_type": "code",
   "execution_count": 4,
   "metadata": {},
   "outputs": [
    {
     "output_type": "stream",
     "name": "stdout",
     "text": [
      "name                영인\nbirth       2010-05-01\nsex                  여\nstu_bool          True\ndtype: object\n"
     ]
    }
   ],
   "source": [
    "#튜플을 시리즈로 변환(인덱스 옵션 지정)\n",
    "import pandas as pandas\n",
    "tup_data = ('영인', '2010-05-01', '여', True)\n",
    "sr = pd.Series(tup_data, index=['name','birth','sex','stu_bool'])\n",
    "print(sr)"
   ]
  },
  {
   "cell_type": "code",
   "execution_count": 5,
   "metadata": {},
   "outputs": [
    {
     "output_type": "stream",
     "name": "stdout",
     "text": [
      "영인\n영인\n"
     ]
    }
   ],
   "source": [
    "print(sr[0])\n",
    "print(sr['name'])"
   ]
  },
  {
   "cell_type": "code",
   "execution_count": 7,
   "metadata": {},
   "outputs": [
    {
     "output_type": "stream",
     "name": "stdout",
     "text": [
      "birth       2010-05-01\nstu_bool          True\ndtype: object\nbirth    2010-05-01\nsex               여\ndtype: object\n"
     ]
    }
   ],
   "source": [
    "print(sr[[1,3]])\n",
    "print(sr[['birth','sex']])"
   ]
  },
  {
   "cell_type": "code",
   "execution_count": 8,
   "metadata": {},
   "outputs": [
    {
     "output_type": "stream",
     "name": "stdout",
     "text": [
      "birth    2010-05-01\ndtype: object\nbirth    2010-05-01\nsex               여\ndtype: object\n"
     ]
    }
   ],
   "source": [
    "#정수형 위치 인덱스는 마지막 값을 포함하지 않지만 인덱스 이름은 포함\n",
    "print(sr[1:2])\n",
    "print(sr['birth':'sex'])"
   ]
  },
  {
   "cell_type": "code",
   "execution_count": 9,
   "metadata": {},
   "outputs": [
    {
     "output_type": "stream",
     "name": "stdout",
     "text": [
      "<class 'pandas.core.frame.DataFrame'>\n   c0  c1  c2  c3  c4\n0   1   4   7  10  13\n1   2   5   8  11  14\n2   3   6   9  12  15\n"
     ]
    }
   ],
   "source": [
    "import pandas as pd\n",
    "\n",
    "dict_data = {'c0':[1,2,3], 'c1':[4,5,6], 'c2':[7,8,9], 'c3':[10,11,12], 'c4':[13,14,15]}\n",
    "\n",
    "df = pd.DataFrame(dict_data)\n",
    "\n",
    "print(type(df))\n",
    "print(df)"
   ]
  },
  {
   "cell_type": "code",
   "execution_count": 11,
   "metadata": {},
   "outputs": [
    {
     "output_type": "stream",
     "name": "stdout",
     "text": [
      "    age     sex school\njs   15     man     DY\nye   17  Female     SR\nIndex(['js', 'ye'], dtype='object')\nIndex(['age', 'sex', 'school'], dtype='object')\n"
     ]
    }
   ],
   "source": [
    "import pandas as pd\n",
    "\n",
    "df = pd.DataFrame([[15,'man','DY'],[17,'Female','SR']],index=['js','ye'],columns=['age','sex','school'])\n",
    "\n",
    "print(df)\n",
    "print(df.index)\n",
    "print(df.columns)\n",
    "\n",
    "#리스트가 행으로 변환 ( 딕셔너리와의 차이 )"
   ]
  },
  {
   "cell_type": "code",
   "execution_count": 13,
   "metadata": {},
   "outputs": [
    {
     "output_type": "stream",
     "name": "stdout",
     "text": [
      "       a       b   c\nstu1  15     man  DY\nstu2  17  Female  SR\nIndex(['stu1', 'stu2'], dtype='object')\nIndex(['a', 'b', 'c'], dtype='object')\n"
     ]
    }
   ],
   "source": [
    "df.index = ['stu1','stu2']\n",
    "df.columns = ['a','b','c']\n",
    "print(df)\n",
    "print(df.index)\n",
    "print(df.columns)"
   ]
  },
  {
   "cell_type": "code",
   "execution_count": 15,
   "metadata": {},
   "outputs": [
    {
     "output_type": "stream",
     "name": "stdout",
     "text": [
      "    a  b  c\nJ  15  m  D\nY  17  f  S\n    aa bb cc\nS1  15  m  D\nS2  17  f  S\n"
     ]
    }
   ],
   "source": [
    "import pandas as pd\n",
    "\n",
    "df = pd.DataFrame([[15,'m','D'],[17,'f','S']],index=['J','Y'],columns=['a','b','c'])\n",
    "\n",
    "print(df)\n",
    "\n",
    "df.rename(columns={'a':'aa', 'b':'bb', 'c':'cc'}, inplace=True)\n",
    "df.rename(index={'J':'S1', 'Y':'S2'},inplace=True)\n",
    "print(df)\n",
    "\n",
    "#inplace 가 true 면 원본이 수정됨"
   ]
  },
  {
   "cell_type": "code",
   "execution_count": 18,
   "metadata": {},
   "outputs": [
    {
     "output_type": "stream",
     "name": "stdout",
     "text": [
      "   math  eng  music  phys\n",
      "s    90   98     85   100\n",
      "u    80   89     95    90\n",
      "i    70   95    100    90\n",
      "   math  eng  music  phys\n",
      "s    90   98     85   100\n",
      "i    70   95    100    90\n",
      "   math  eng  music  phys\n",
      "s    90   98     85   100\n",
      "/Users/inwon/opt/anaconda3/envs/myenv/lib/python3.7/site-packages/pandas/core/frame.py:4315: SettingWithCopyWarning: \n",
      "A value is trying to be set on a copy of a slice from a DataFrame\n",
      "\n",
      "See the caveats in the documentation: https://pandas.pydata.org/pandas-docs/stable/user_guide/indexing.html#returning-a-view-versus-a-copy\n",
      "  errors=errors,\n",
      "/Users/inwon/opt/anaconda3/envs/myenv/lib/python3.7/site-packages/pandas/core/frame.py:4315: SettingWithCopyWarning: \n",
      "A value is trying to be set on a copy of a slice from a DataFrame\n",
      "\n",
      "See the caveats in the documentation: https://pandas.pydata.org/pandas-docs/stable/user_guide/indexing.html#returning-a-view-versus-a-copy\n",
      "  errors=errors,\n"
     ]
    }
   ],
   "source": [
    "#행/열 삭제\n",
    " #행 삭제 axis=0 또는 공백\n",
    " #열 삭제 axis=1\n",
    " #여러개 삭제 원하면 리스트 형태로 입력\n",
    "\n",
    "import pandas as pd\n",
    "\n",
    "exam_data = {'math' : [90,80,70], 'eng' : [98,89,95], 'music' : [85,95,100], 'phys' : [100,90,90]}\n",
    "\n",
    "df = pd.DataFrame(exam_data, index = ['s','u','i'])\n",
    "print(df)\n",
    "\n",
    "df2 = df[:]\n",
    "df2.drop('u', inplace=True)\n",
    "print(df2)\n",
    "\n",
    "df3 = df[:]\n",
    "df3.drop(['u','i'], axis=0, inplace=True)\n",
    "print(df3)"
   ]
  },
  {
   "cell_type": "code",
   "execution_count": 20,
   "metadata": {},
   "outputs": [
    {
     "output_type": "stream",
     "name": "stdout",
     "text": [
      "   eng  music  phys\n",
      "s   98     85   100\n",
      "u   89     95    90\n",
      "i   95    100    90\n",
      "   math  phys\n",
      "s    90   100\n",
      "u    80    90\n",
      "i    70    90\n",
      "/Users/inwon/opt/anaconda3/envs/myenv/lib/python3.7/site-packages/pandas/core/frame.py:4315: SettingWithCopyWarning: \n",
      "A value is trying to be set on a copy of a slice from a DataFrame\n",
      "\n",
      "See the caveats in the documentation: https://pandas.pydata.org/pandas-docs/stable/user_guide/indexing.html#returning-a-view-versus-a-copy\n",
      "  errors=errors,\n",
      "/Users/inwon/opt/anaconda3/envs/myenv/lib/python3.7/site-packages/pandas/core/frame.py:4315: SettingWithCopyWarning: \n",
      "A value is trying to be set on a copy of a slice from a DataFrame\n",
      "\n",
      "See the caveats in the documentation: https://pandas.pydata.org/pandas-docs/stable/user_guide/indexing.html#returning-a-view-versus-a-copy\n",
      "  errors=errors,\n"
     ]
    }
   ],
   "source": [
    "df4 = df[:]\n",
    "df4.drop('math',axis=1,inplace=True)\n",
    "\n",
    "print(df4)\n",
    "\n",
    "df5 = df[:]\n",
    "df5.drop(['eng','music'],axis=1,inplace=True)\n",
    "\n",
    "print(df5)\n"
   ]
  },
  {
   "cell_type": "code",
   "execution_count": 24,
   "metadata": {},
   "outputs": [
    {
     "output_type": "stream",
     "name": "stdout",
     "text": [
      "   math  eng  music  phys\ns    90   98     85   100\nu    80   89     95    90\ni    70   95    100    90 \n\nmath      90\neng       98\nmusic     85\nphys     100\nName: s, dtype: int64 \n\nmath      90\neng       98\nmusic     85\nphys     100\nName: s, dtype: int64\n"
     ]
    }
   ],
   "source": [
    "#행 선택\n",
    "#인덱스 이름 사용할 때는 loc, 정수형 위치 인덱스를 사용할 때는 iloc\n",
    "print(df,'\\n')\n",
    "\n",
    "label1 = df.loc['s']\n",
    "position1 = df.iloc[0]\n",
    "print(label1,'\\n')\n",
    "print(position1)"
   ]
  },
  {
   "cell_type": "code",
   "execution_count": 25,
   "metadata": {},
   "outputs": [
    {
     "output_type": "stream",
     "name": "stdout",
     "text": [
      "   math  eng  music  phys\ns    90   98     85   100\nu    80   89     95    90\ni    70   95    100    90 \n\n   math  eng  music  phys\ns    90   98     85   100\nu    80   89     95    90 \n\n   math  eng  music  phys\ns    90   98     85   100\nu    80   89     95    90\n"
     ]
    }
   ],
   "source": [
    "print(df,'\\n')\n",
    "\n",
    "label2 = df.loc[['s','u']]\n",
    "position2 = df.iloc[[0,1]]\n",
    "print(label2,'\\n')\n",
    "print(position2)"
   ]
  },
  {
   "cell_type": "code",
   "execution_count": 26,
   "metadata": {},
   "outputs": [
    {
     "output_type": "stream",
     "name": "stdout",
     "text": [
      "   math  eng  music  phys\ns    90   98     85   100\nu    80   89     95    90\ni    70   95    100    90 \n\n   math  eng  music  phys\ns    90   98     85   100\nu    80   89     95    90 \n\n   math  eng  music  phys\ns    90   98     85   100\n"
     ]
    }
   ],
   "source": [
    "print(df,'\\n')\n",
    "\n",
    "label3 = df.loc['s':'u']\n",
    "position3 = df.iloc[0:1]\n",
    "print(label3,'\\n')\n",
    "print(position3)"
   ]
  },
  {
   "cell_type": "code",
   "execution_count": 27,
   "metadata": {},
   "outputs": [
    {
     "output_type": "stream",
     "name": "stdout",
     "text": [
      "   math  eng  music  phys\ns    90   98     85   100\nu    80   89     95    90\ni    70   95    100    90\n<class 'pandas.core.frame.DataFrame'> \n\ns    90\nu    80\ni    70\nName: math, dtype: int64\n<class 'pandas.core.series.Series'> \n\ns    98\nu    89\ni    95\nName: eng, dtype: int64\n<class 'pandas.core.series.Series'>\n"
     ]
    }
   ],
   "source": [
    "#열 선택\n",
    "print(df)\n",
    "print(type(df),'\\n')\n",
    "\n",
    "math1 = df['math']\n",
    "print(math1)\n",
    "print(type(math1),'\\n')\n",
    "\n",
    "english = df.eng\n",
    "print(english)\n",
    "print(type(english))"
   ]
  },
  {
   "cell_type": "code",
   "execution_count": 28,
   "metadata": {},
   "outputs": [
    {
     "output_type": "stream",
     "name": "stdout",
     "text": [
      "   math  eng  music  phys\ns    90   98     85   100\nu    80   89     95    90\ni    70   95    100    90 \n\n   music  phys\ns     85   100\nu     95    90\ni    100    90\n<class 'pandas.core.frame.DataFrame'>\n\n\n   math\ns    90\nu    80\ni    70\n<class 'pandas.core.frame.DataFrame'>\n"
     ]
    }
   ],
   "source": [
    "print(df,'\\n')\n",
    "\n",
    "music_gym = df[['music', 'phys']]\n",
    "print(music_gym)\n",
    "print(type(music_gym))\n",
    "print('\\n')\n",
    "\n",
    "math2 = df[['math']]\n",
    "print(math2)\n",
    "print(type(math2))\n"
   ]
  },
  {
   "cell_type": "code",
   "execution_count": 29,
   "metadata": {},
   "outputs": [
    {
     "output_type": "execute_result",
     "data": {
      "text/plain": [
       "   math  eng  music  phys\n",
       "s    90   98     85   100\n",
       "i    70   95    100    90"
      ],
      "text/html": "<div>\n<style scoped>\n    .dataframe tbody tr th:only-of-type {\n        vertical-align: middle;\n    }\n\n    .dataframe tbody tr th {\n        vertical-align: top;\n    }\n\n    .dataframe thead th {\n        text-align: right;\n    }\n</style>\n<table border=\"1\" class=\"dataframe\">\n  <thead>\n    <tr style=\"text-align: right;\">\n      <th></th>\n      <th>math</th>\n      <th>eng</th>\n      <th>music</th>\n      <th>phys</th>\n    </tr>\n  </thead>\n  <tbody>\n    <tr>\n      <th>s</th>\n      <td>90</td>\n      <td>98</td>\n      <td>85</td>\n      <td>100</td>\n    </tr>\n    <tr>\n      <th>i</th>\n      <td>70</td>\n      <td>95</td>\n      <td>100</td>\n      <td>90</td>\n    </tr>\n  </tbody>\n</table>\n</div>"
     },
     "metadata": {},
     "execution_count": 29
    }
   ],
   "source": [
    "df.iloc[::2]\n",
    "#iloc[start:end:간격]"
   ]
  },
  {
   "cell_type": "code",
   "execution_count": 30,
   "metadata": {},
   "outputs": [
    {
     "output_type": "execute_result",
     "data": {
      "text/plain": [
       "   math  eng  music  phys\n",
       "s    90   98     85   100\n",
       "i    70   95    100    90"
      ],
      "text/html": "<div>\n<style scoped>\n    .dataframe tbody tr th:only-of-type {\n        vertical-align: middle;\n    }\n\n    .dataframe tbody tr th {\n        vertical-align: top;\n    }\n\n    .dataframe thead th {\n        text-align: right;\n    }\n</style>\n<table border=\"1\" class=\"dataframe\">\n  <thead>\n    <tr style=\"text-align: right;\">\n      <th></th>\n      <th>math</th>\n      <th>eng</th>\n      <th>music</th>\n      <th>phys</th>\n    </tr>\n  </thead>\n  <tbody>\n    <tr>\n      <th>s</th>\n      <td>90</td>\n      <td>98</td>\n      <td>85</td>\n      <td>100</td>\n    </tr>\n    <tr>\n      <th>i</th>\n      <td>70</td>\n      <td>95</td>\n      <td>100</td>\n      <td>90</td>\n    </tr>\n  </tbody>\n</table>\n</div>"
     },
     "metadata": {},
     "execution_count": 30
    }
   ],
   "source": [
    "df.iloc[0:3:2]"
   ]
  },
  {
   "cell_type": "code",
   "execution_count": 31,
   "metadata": {},
   "outputs": [
    {
     "output_type": "execute_result",
     "data": {
      "text/plain": [
       "   math  eng  music  phys\n",
       "i    70   95    100    90\n",
       "u    80   89     95    90\n",
       "s    90   98     85   100"
      ],
      "text/html": "<div>\n<style scoped>\n    .dataframe tbody tr th:only-of-type {\n        vertical-align: middle;\n    }\n\n    .dataframe tbody tr th {\n        vertical-align: top;\n    }\n\n    .dataframe thead th {\n        text-align: right;\n    }\n</style>\n<table border=\"1\" class=\"dataframe\">\n  <thead>\n    <tr style=\"text-align: right;\">\n      <th></th>\n      <th>math</th>\n      <th>eng</th>\n      <th>music</th>\n      <th>phys</th>\n    </tr>\n  </thead>\n  <tbody>\n    <tr>\n      <th>i</th>\n      <td>70</td>\n      <td>95</td>\n      <td>100</td>\n      <td>90</td>\n    </tr>\n    <tr>\n      <th>u</th>\n      <td>80</td>\n      <td>89</td>\n      <td>95</td>\n      <td>90</td>\n    </tr>\n    <tr>\n      <th>s</th>\n      <td>90</td>\n      <td>98</td>\n      <td>85</td>\n      <td>100</td>\n    </tr>\n  </tbody>\n</table>\n</div>"
     },
     "metadata": {},
     "execution_count": 31
    }
   ],
   "source": [
    "df.iloc[::-1]\n",
    "#역순으로 인덱싱"
   ]
  },
  {
   "cell_type": "code",
   "execution_count": 35,
   "metadata": {},
   "outputs": [
    {
     "output_type": "stream",
     "name": "stdout",
     "text": [
      "      math  eng  music  phys\nname                        \ns       90   98     85   100\nu       80   89     95    90\ni       70   95    100    90\n"
     ]
    }
   ],
   "source": [
    "#원소 선택\n",
    "exam_data = {'name' : ['s','u','i'],'math' : [90,80,70], 'eng' : [98,89,95], 'music' : [85,95,100], 'phys' : [100,90,90]}\n",
    "df = pd.DataFrame(exam_data)\n",
    "\n",
    "df.set_index('name', inplace=True)\n",
    "print(df)"
   ]
  },
  {
   "cell_type": "code",
   "execution_count": 36,
   "metadata": {},
   "outputs": [
    {
     "output_type": "stream",
     "name": "stdout",
     "text": [
      "85\n85\n"
     ]
    }
   ],
   "source": [
    "a = df.loc['s','music']\n",
    "print(a)\n",
    "b = df.iloc[0,2]\n",
    "print(b)"
   ]
  },
  {
   "cell_type": "code",
   "execution_count": 39,
   "metadata": {},
   "outputs": [
    {
     "output_type": "stream",
     "name": "stdout",
     "text": [
      "music     85\nphys     100\nName: s, dtype: int64\nmusic     85\nphys     100\nName: s, dtype: int64\nmusic     85\nphys     100\nName: s, dtype: int64\nmusic     85\nphys     100\nName: s, dtype: int64\n"
     ]
    }
   ],
   "source": [
    "c = df.loc['s',['music','phys']]\n",
    "print(c)\n",
    "d = df.iloc[0,[2,3]]\n",
    "print(d)\n",
    "e = df.loc['s','music':'phys']\n",
    "print(e)\n",
    "f = df.iloc[0,2:]\n",
    "print(f)"
   ]
  },
  {
   "cell_type": "code",
   "execution_count": 40,
   "metadata": {},
   "outputs": [
    {
     "output_type": "stream",
     "name": "stdout",
     "text": [
      "      music  phys\nname             \ns        85   100\nu        95    90\n      music  phys\nname             \ns        85   100\nu        95    90\n      music  phys\nname             \ns        85   100\nu        95    90\n      music  phys\nname             \ns        85   100\nu        95    90\n"
     ]
    }
   ],
   "source": [
    "g = df.loc[['s','u'],['music','phys']]\n",
    "print(g)\n",
    "h = df.iloc[[0,1],[2,3]]\n",
    "print(h)\n",
    "i = df.loc['s':'u', 'music':'phys']\n",
    "print(i)\n",
    "j = df.iloc[0:2, 2:]\n",
    "print(j)"
   ]
  },
  {
   "cell_type": "code",
   "execution_count": 41,
   "metadata": {},
   "outputs": [
    {
     "output_type": "stream",
     "name": "stdout",
     "text": [
      "  name  math  eng  music  phys\n0    s    90   98     85   100\n1    u    80   89     95    90\n2    i    70   95    100    90 \n\n  name  math  eng  music  phys  kor\n0    s    90   98     85   100   80\n1    u    80   89     95    90   80\n2    i    70   95    100    90   80\n"
     ]
    }
   ],
   "source": [
    "#열 추가\n",
    "exam_data = {'name' : ['s','u','i'],'math' : [90,80,70], 'eng' : [98,89,95], 'music' : [85,95,100], 'phys' : [100,90,90]}\n",
    "\n",
    "df = pd.DataFrame(exam_data)\n",
    "print(df,'\\n')\n",
    "\n",
    "df['kor']=80\n",
    "print(df)"
   ]
  },
  {
   "cell_type": "code",
   "execution_count": 42,
   "metadata": {},
   "outputs": [
    {
     "output_type": "stream",
     "name": "stdout",
     "text": [
      "  name  math  eng  music  phys\n0    s    90   98     85   100\n1    u    80   89     95    90\n2    i    70   95    100    90 \n\n  name  math  eng  music  phys\n0    s    90   98     85   100\n1    u    80   89     95    90\n2    i    70   95    100    90\n3    0     0    0      0     0 \n\n  name  math  eng  music  phys\n0    s    90   98     85   100\n1    u    80   89     95    90\n2    i    70   95    100    90\n3    0     0    0      0     0\n4    d    90   80     70    60 \n\n     name  math  eng  music  phys\n0       s    90   98     85   100\n1       u    80   89     95    90\n2       i    70   95    100    90\n3       0     0    0      0     0\n4       d    90   80     70    60\n5row    0     0    0      0     0\n"
     ]
    }
   ],
   "source": [
    "#행 추가\n",
    "exam_data = {'name' : ['s','u','i'],'math' : [90,80,70], 'eng' : [98,89,95], 'music' : [85,95,100], 'phys' : [100,90,90]}\n",
    "\n",
    "df = pd.DataFrame(exam_data)\n",
    "print(df,'\\n')\n",
    "\n",
    "df.loc[3] = 0\n",
    "print(df,'\\n')\n",
    "\n",
    "df.loc[4] = ['d',90,80,70,60]\n",
    "print(df,'\\n')\n",
    "\n",
    "df.loc['5row'] = df.loc[3]\n",
    "print(df)"
   ]
  },
  {
   "cell_type": "code",
   "execution_count": 43,
   "metadata": {},
   "outputs": [
    {
     "output_type": "stream",
     "name": "stdout",
     "text": [
      "      math  eng  music  phys\nname                        \ns       90   98     85   100\nu       80   89     95    90\ni       70   95    100    90 \n\n      math  eng  music  phys\nname                        \ns       90   98     85    80\nu       80   89     95    90\ni       70   95    100    90 \n\n      math  eng  music  phys\nname                        \ns       90   98     85    90\nu       80   89     95    90\ni       70   95    100    90 \n\n      math  eng  music  phys\nname                        \ns       90   98     85   100\nu       80   89     95    90\ni       70   95    100    90\n"
     ]
    }
   ],
   "source": [
    "#원소 값 변경\n",
    "exam_data = {'name' : ['s','u','i'],'math' : [90,80,70], 'eng' : [98,89,95], 'music' : [85,95,100], 'phys' : [100,90,90]}\n",
    "\n",
    "df = pd.DataFrame(exam_data)\n",
    "\n",
    "df.set_index('name', inplace=True)\n",
    "print(df,'\\n')\n",
    "\n",
    "df.iloc[0][3] = 80\n",
    "print(df,'\\n')\n",
    "\n",
    "df.loc['s']['phys'] = 90\n",
    "print(df,'\\n')\n",
    "\n",
    "df.loc['s','phys'] = 100\n",
    "print(df)"
   ]
  },
  {
   "cell_type": "code",
   "execution_count": 44,
   "metadata": {},
   "outputs": [
    {
     "output_type": "stream",
     "name": "stdout",
     "text": [
      "      math  eng  music  phys\nname                        \ns       90   98     50    50\nu       80   89     95    90\ni       70   95    100    90 \n\n      math  eng  music  phys\nname                        \ns       90   98    100    50\nu       80   89     95    90\ni       70   95    100    90\n"
     ]
    }
   ],
   "source": [
    "df.loc['s',['music','phys']] = 50\n",
    "print(df,'\\n')\n",
    "\n",
    "df.loc['s',['music','phys']] = 100,50\n",
    "print(df)"
   ]
  },
  {
   "cell_type": "code",
   "execution_count": 45,
   "metadata": {},
   "outputs": [
    {
     "output_type": "stream",
     "name": "stdout",
     "text": [
      "  name  math  eng  music  phys\n0    s    90   98     85   100\n1    u    80   89     95    90\n2    i    70   95    100    90 \n\n         0   1    2\nname     s   u    i\nmath    90  80   70\neng     98  89   95\nmusic   85  95  100\nphys   100  90   90 \n\n  name math eng music phys\n0    s   90  98    85  100\n1    u   80  89    95   90\n2    i   70  95   100   90\n"
     ]
    }
   ],
   "source": [
    "exam_data = {'name' : ['s','u','i'],'math' : [90,80,70], 'eng' : [98,89,95], 'music' : [85,95,100], 'phys' : [100,90,90]}\n",
    "\n",
    "df = pd.DataFrame(exam_data)\n",
    "print(df,'\\n')\n",
    "\n",
    "df = df.transpose()\n",
    "print(df,'\\n')\n",
    "\n",
    "df = df.T\n",
    "print(df)"
   ]
  },
  {
   "cell_type": "code",
   "execution_count": 46,
   "metadata": {},
   "outputs": [
    {
     "output_type": "stream",
     "name": "stdout",
     "text": [
      "  name  math  eng  music  phys\n0    s    90   98     85   100\n1    u    80   89     95    90\n2    i    70   95    100    90 \n\n      math  eng  music  phys\nname                        \ns       90   98     85   100\nu       80   89     95    90\ni       70   95    100    90\n\n\n       math  eng  phys\nmusic                 \n85       90   98   100\n95       80   89    90\n100      70   95    90\n\n\n            eng  phys\nmath music           \n90   85      98   100\n80   95      89    90\n70   100     95    90\n"
     ]
    }
   ],
   "source": [
    "exam_data = {'name' : ['s','u','i'],'math' : [90,80,70], 'eng' : [98,89,95], 'music' : [85,95,100], 'phys' : [100,90,90]}\n",
    "\n",
    "df = pd.DataFrame(exam_data)\n",
    "print(df,'\\n')\n",
    "\n",
    "ndf = df.set_index(['name'])\n",
    "print(ndf)\n",
    "print('\\n')\n",
    "\n",
    "ndf2 = ndf.set_index('music')\n",
    "print(ndf2)\n",
    "print('\\n')\n",
    "\n",
    "ndf3 = ndf.set_index(['math', 'music'])\n",
    "print(ndf3)"
   ]
  },
  {
   "cell_type": "code",
   "execution_count": 47,
   "metadata": {},
   "outputs": [
    {
     "output_type": "stream",
     "name": "stdout",
     "text": [
      "    c0  c1  c2  c3  c4\nr0   1   4   7  10  13\nr1   2   5   8  11  14\nr2   3   6   9  12  15\n\n\n     c0   c1   c2    c3    c4\nr0  1.0  4.0  7.0  10.0  13.0\nr1  2.0  5.0  8.0  11.0  14.0\nr2  3.0  6.0  9.0  12.0  15.0\nr3  NaN  NaN  NaN   NaN   NaN\nr4  NaN  NaN  NaN   NaN   NaN\n\n\n    c0  c1  c2  c3  c4\nr0   1   4   7  10  13\nr1   2   5   8  11  14\nr2   3   6   9  12  15\nr3   0   0   0   0   0\nr4   0   0   0   0   0\n"
     ]
    }
   ],
   "source": [
    "#행 인덱스 재배열\n",
    "dict_data = {'c0':[1,2,3], 'c1':[4,5,6], 'c2':[7,8,9], 'c3':[10,11,12], 'c4':[13,14,15]}\n",
    "\n",
    "df = pd.DataFrame(dict_data, index=['r0', 'r1', 'r2'])\n",
    "print(df)\n",
    "print('\\n')\n",
    "\n",
    "new_index = ['r0', 'r1', 'r2', 'r3', 'r4']\n",
    "ndf = df.reindex(new_index)\n",
    "print(ndf)\n",
    "print('\\n')\n",
    "\n",
    "new_index = ['r0','r1','r2','r3','r4']\n",
    "ndf2 = df.reindex(new_index, fill_value = 0)\n",
    "print(ndf2)"
   ]
  },
  {
   "cell_type": "code",
   "execution_count": 49,
   "metadata": {},
   "outputs": [
    {
     "output_type": "stream",
     "name": "stdout",
     "text": [
      "    c0  c1  c2  c3  c4\nr0   1   4   7  10  13\nr1   2   5   8  11  14\nr2   3   6   9  12  15 \n\n  index  c0  c1  c2  c3  c4\n0    r0   1   4   7  10  13\n1    r1   2   5   8  11  14\n2    r2   3   6   9  12  15\n"
     ]
    }
   ],
   "source": [
    "#행 인덱스 초기화\n",
    "dict_data = {'c0':[1,2,3], 'c1':[4,5,6], 'c2':[7,8,9], 'c3':[10,11,12], 'c4':[13,14,15]}\n",
    "\n",
    "df = pd.DataFrame(dict_data, index = ['r0', 'r1', 'r2'])\n",
    "print(df,'\\n')\n",
    "\n",
    "ndf = df.reset_index()\n",
    "print(ndf)"
   ]
  },
  {
   "cell_type": "code",
   "execution_count": null,
   "metadata": {},
   "outputs": [],
   "source": []
  }
 ]
}